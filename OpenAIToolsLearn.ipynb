{
 "cells": [
  {
   "cell_type": "code",
   "execution_count": 2,
   "metadata": {},
   "outputs": [],
   "source": [
    "from dotenv import load_dotenv\n",
    "import os\n",
    "\n",
    "# Load .env file\n",
    "load_dotenv()\n",
    "\n",
    "# Get OPENAI_API_KEY and OPENAI_ORGANIZATION from .env file\n",
    "api_key = os.getenv(\"OPENAI_API_KEY\")\n",
    "organization = os.getenv(\"OPENAI_ORGANIZATION\")\n",
    "from openai import OpenAI\n",
    "\n",
    "client = OpenAI(\n",
    "    api_key=os.getenv(\"OPENAI_API_KEY\"), organization=os.getenv(\"OPENAI_ORGANIZATION\")\n",
    ")"
   ]
  },
  {
   "cell_type": "code",
   "execution_count": 3,
   "metadata": {},
   "outputs": [],
   "source": [
    "messages = [\n",
    "    {\n",
    "        \"role\": \"system\",\n",
    "        \"content\": \"You are an expert at adding and multiplying numbers together. Don't make assumptions about what values to plug into functions. Ask for clarification if a user request is ambiguous.\",\n",
    "    },\n",
    "    {\"role\": \"user\", \"content\": \"Hello!\"},\n",
    "]"
   ]
  },
  {
   "cell_type": "code",
   "execution_count": 4,
   "metadata": {},
   "outputs": [],
   "source": [
    "from typing import List, Dict\n",
    "\n",
    "class Message:\n",
    "    def __init__(\n",
    "        self,\n",
    "        role: str,\n",
    "        content: str,\n",
    "        tool_calls: List=[],\n",
    "        tool_call_id: str = None,\n",
    "        name: str = None\n",
    "    ):\n",
    "        self.role = role\n",
    "        self.content = content\n",
    "        self.tool_calls = tool_calls\n",
    "        self.tool_call_id = tool_call_id\n",
    "        self.name = name\n",
    "        \n",
    "        \n",
    "    def to_dict(self):\n",
    "        message_dict = {'role': self.role, 'content': self.content}\n",
    "        if self.tool_calls:\n",
    "            message_dict['tool_calls'] = self.tool_calls\n",
    "        if self.tool_call_id:\n",
    "            message_dict['tool_call_id'] = self.tool_call_id\n",
    "        if self.name:\n",
    "            message_dict['name'] = self.name\n",
    "        return message_dict\n",
    "    \n",
    "    \n",
    "class Conversation:\n",
    "    def __init__(self, messages: List[Dict[str,str]]):\n",
    "        self.messages = [Message(**message) for message in messages]\n",
    "        \n",
    "    def __iter__(self):\n",
    "        for message in self.messages:\n",
    "            yield message\n",
    "            \n",
    "    def to_dict(self):\n",
    "        return [message.to_dict() for message in self.messages]\n",
    "    \n",
    "    def add_message(self, message: Dict[str,str]):\n",
    "        self.messages.append(Message(**message))\n",
    "        \n",
    "    def add_system_message(self, completion):\n",
    "        self.add_message(\n",
    "            {\n",
    "                'role' : completion.choices[0].message.role,\n",
    "                'content' : completion.choices[0].message.content,\n",
    "                'tool_calls' : completion.choices[0].message.tool_calls,\n",
    "            }\n",
    "        )\n",
    "        \n",
    "    def add_human_message(self, message):\n",
    "        self.add_message(\n",
    "            {\n",
    "                'role' : 'user',\n",
    "                'content' : message\n",
    "            }\n",
    "        )\n",
    "        \n",
    "    def add_tool_message(self, tool_called, response):\n",
    "        self.add_message(\n",
    "            {\n",
    "                'role' : 'tool', \n",
    "                'name' : tool_called.function.name,\n",
    "                'tool_call_id': tool_called.id,\n",
    "                'content' : str(response)\n",
    "            }\n",
    "        )\n",
    "        \n",
    "    def print_conversation(self): \n",
    "        for message in self.messages:\n",
    "            print(f\"{message.role} : {message.content}\")\n",
    "            \n",
    "            "
   ]
  },
  {
   "cell_type": "code",
   "execution_count": 5,
   "metadata": {},
   "outputs": [
    {
     "name": "stdout",
     "output_type": "stream",
     "text": [
      "system : You are an expert at adding and multiplying numbers together. Don't make assumptions about what values to plug into functions. Ask for clarification if a user request is ambiguous.\n",
      "user : Hello!\n"
     ]
    }
   ],
   "source": [
    "conversation = Conversation(messages)\n",
    "conversation.print_conversation()"
   ]
  },
  {
   "cell_type": "code",
   "execution_count": 6,
   "metadata": {},
   "outputs": [
    {
     "data": {
      "text/plain": [
       "[{'role': 'system',\n",
       "  'content': \"You are an expert at adding and multiplying numbers together. Don't make assumptions about what values to plug into functions. Ask for clarification if a user request is ambiguous.\"},\n",
       " {'role': 'user', 'content': 'Hello!'}]"
      ]
     },
     "execution_count": 6,
     "metadata": {},
     "output_type": "execute_result"
    }
   ],
   "source": [
    "conversation.to_dict()"
   ]
  },
  {
   "cell_type": "code",
   "execution_count": 7,
   "metadata": {},
   "outputs": [],
   "source": [
    "def chat_with_openai(conversation):\n",
    "    completion = client.chat.completions.create(\n",
    "        model = 'gpt-3.5-turbo-1106',\n",
    "        messages = conversation.to_dict()\n",
    "    )\n",
    "    return completion\n"
   ]
  },
  {
   "cell_type": "code",
   "execution_count": 8,
   "metadata": {},
   "outputs": [
    {
     "name": "stdout",
     "output_type": "stream",
     "text": [
      "ChatCompletionMessage(content='Hi there! How can I assist you today with adding and multiplying numbers together?', role='assistant', function_call=None, tool_calls=None)\n",
      "ChatCompletion(id='chatcmpl-91x6vQSXe0lTo4EjZIZCsLsglRFbd', choices=[Choice(finish_reason='stop', index=0, logprobs=None, message=ChatCompletionMessage(content='Hi there! How can I assist you today with adding and multiplying numbers together?', role='assistant', function_call=None, tool_calls=None))], created=1710252577, model='gpt-3.5-turbo-1106', object='chat.completion', system_fingerprint='fp_f93e21ed76', usage=CompletionUsage(completion_tokens=16, prompt_tokens=46, total_tokens=62))\n"
     ]
    }
   ],
   "source": [
    "completion = chat_with_openai(conversation=conversation)\n",
    "print(completion.choices[0].message)\n",
    "print(completion)"
   ]
  },
  {
   "cell_type": "markdown",
   "metadata": {},
   "source": [
    "Here it goes we add with proceeding Manually\n"
   ]
  },
  {
   "cell_type": "code",
   "execution_count": 9,
   "metadata": {},
   "outputs": [
    {
     "name": "stdout",
     "output_type": "stream",
     "text": [
      "system : You are an expert at adding and multiplying numbers together. Don't make assumptions about what values to plug into functions. Ask for clarification if a user request is ambiguous.\n",
      "user : Hello!\n",
      "assistant : Hi there! How can I assist you today with adding and multiplying numbers together?\n"
     ]
    }
   ],
   "source": [
    "conversation.add_system_message(completion=completion)\n",
    "\n",
    "conversation.print_conversation()"
   ]
  },
  {
   "cell_type": "code",
   "execution_count": 10,
   "metadata": {},
   "outputs": [
    {
     "name": "stdout",
     "output_type": "stream",
     "text": [
      "system : You are an expert at adding and multiplying numbers together. Don't make assumptions about what values to plug into functions. Ask for clarification if a user request is ambiguous.\n",
      "user : Hello!\n",
      "assistant : Hi there! How can I assist you today with adding and multiplying numbers together?\n",
      "user : I want to get to know physics\n"
     ]
    }
   ],
   "source": [
    "conversation.add_human_message('I want to get to know physics')\n",
    "conversation.print_conversation()"
   ]
  },
  {
   "cell_type": "code",
   "execution_count": 11,
   "metadata": {},
   "outputs": [
    {
     "name": "stdout",
     "output_type": "stream",
     "text": [
      "system : You are an expert at adding and multiplying numbers together. Don't make assumptions about what values to plug into functions. Ask for clarification if a user request is ambiguous.\n",
      "user : Hello!\n",
      "assistant : Hi there! How can I assist you today with adding and multiplying numbers together?\n",
      "user : I want to get to know physics\n",
      "assistant : That's great! Physics is a fascinating subject. Are there specific concepts or topics within physics that you're interested in learning about? For example, are you interested in classical mechanics, electromagnetism, thermodynamics, quantum mechanics, or any other specific area of physics?\n"
     ]
    }
   ],
   "source": [
    "completion = chat_with_openai(conversation)\n",
    "conversation.add_system_message(completion)\n",
    "conversation.print_conversation()"
   ]
  },
  {
   "cell_type": "markdown",
   "metadata": {},
   "source": [
    "Process it indefinetely\n"
   ]
  },
  {
   "cell_type": "code",
   "execution_count": 12,
   "metadata": {},
   "outputs": [
    {
     "name": "stdout",
     "output_type": "stream",
     "text": [
      "system : You are an expert at adding and multiplying numbers together. Don't make assumptions about what values to plug into functions. Ask for clarification if a user request is ambiguous.\n",
      "user : Hello!\n",
      "assistant : Hi there! How can I assist you today with adding and multiplying numbers together?\n",
      "user : I want to get to know physics\n",
      "assistant : That's great! Physics is a fascinating subject. Are there specific concepts or topics within physics that you're interested in learning about? For example, are you interested in classical mechanics, electromagnetism, thermodynamics, quantum mechanics, or any other specific area of physics?\n",
      "user : go for it\n",
      "assistant : Alright! Let's start with a classic physics equation. The equation for force (F) is given by F = m * a, where m is the mass of an object and a is its acceleration. If you have the values for mass and acceleration, I can help you calculate the force acting on the object using this equation.\n"
     ]
    },
    {
     "data": {
      "text/plain": [
       "<__main__.Conversation at 0x146135bd600>"
      ]
     },
     "execution_count": 12,
     "metadata": {},
     "output_type": "execute_result"
    }
   ],
   "source": [
    "def run_conversation(new_message, conversation):\n",
    "    conversation.add_human_message(new_message)\n",
    "    completion = chat_with_openai(conversation)\n",
    "    conversation.add_system_message(completion)\n",
    "    conversation.print_conversation()\n",
    "    return conversation\n",
    "\n",
    "run_conversation(\"go for it\", conversation)"
   ]
  },
  {
   "cell_type": "markdown",
   "metadata": {},
   "source": [
    "# ADD Tools"
   ]
  },
  {
   "cell_type": "code",
   "execution_count": 13,
   "metadata": {},
   "outputs": [],
   "source": [
    "def add_two_numbers(args):\n",
    "    return args['number_a'] + args['number_b']"
   ]
  },
  {
   "cell_type": "markdown",
   "metadata": {},
   "source": [
    "Specify the Tools\n"
   ]
  },
  {
   "cell_type": "code",
   "execution_count": 29,
   "metadata": {},
   "outputs": [],
   "source": [
    "tools = [\n",
    "    {\n",
    "        \"type\": \"function\",\n",
    "        \"function\": {\n",
    "            \"name\": \"add_two_numbers\",\n",
    "            \"description\": \"Add two numbers together\",\n",
    "            \"parameters\": {\n",
    "                \"type\": \"object\",\n",
    "                \"properties\": {\n",
    "                    \"number_a\": {\n",
    "                        \"type\": \"integer\",\n",
    "                        \"description\": \"The first number\",\n",
    "                    },\n",
    "                    \"number_b\": {\n",
    "                        \"type\": \"integer\",\n",
    "                        \"description\": \"The second number.\",\n",
    "                    },\n",
    "                },\n",
    "                \"required\": [\"number_a\", \"number_b\"],\n",
    "            },\n",
    "        }\n",
    "    }\n",
    "]"
   ]
  },
  {
   "cell_type": "code",
   "execution_count": 30,
   "metadata": {},
   "outputs": [],
   "source": [
    "def chat_with_openai_using_tools(conversation):\n",
    "    completion = client.chat.completions.create(\n",
    "        model = 'gpt-3.5-turbo-1106',\n",
    "        messages = conversation.to_dict(),\n",
    "        tools = tools\n",
    "    )\n",
    "    return completion"
   ]
  },
  {
   "cell_type": "code",
   "execution_count": 31,
   "metadata": {},
   "outputs": [],
   "source": [
    "# We want our messages to look something like this:\n",
    "messages = [\n",
    "    {\n",
    "        \"role\": \"system\",\n",
    "        \"content\": \"You are an expert at adding and multiplying numbers together. Don't make assumptions about what values to plug into functions. Ask for clarification if a user request is ambiguous. Use your tools when they are helpful\",\n",
    "    },\n",
    "    {\"role\": \"user\", \"content\": \"Help me add 13 and 27\"},\n",
    "]\n",
    "\n",
    "conversation_with_tools = Conversation(messages)\n"
   ]
  },
  {
   "cell_type": "code",
   "execution_count": 32,
   "metadata": {},
   "outputs": [
    {
     "data": {
      "text/plain": [
       "[{'role': 'system',\n",
       "  'content': \"You are an expert at adding and multiplying numbers together. Don't make assumptions about what values to plug into functions. Ask for clarification if a user request is ambiguous. Use your tools when they are helpful\"},\n",
       " {'role': 'user', 'content': 'Help me add 13 and 27'}]"
      ]
     },
     "execution_count": 32,
     "metadata": {},
     "output_type": "execute_result"
    }
   ],
   "source": [
    "conversation_with_tools.to_dict()"
   ]
  },
  {
   "cell_type": "code",
   "execution_count": 33,
   "metadata": {},
   "outputs": [
    {
     "name": "stdout",
     "output_type": "stream",
     "text": [
      "ChatCompletionMessage(content=None, role='assistant', function_call=None, tool_calls=[ChatCompletionMessageToolCall(id='call_GimrKeXBNoZpgsLHDPBNk2jy', function=Function(arguments='{\"number_a\":13,\"number_b\":27}', name='add_two_numbers'), type='function')])\n"
     ]
    }
   ],
   "source": [
    "#  call it now with our convesation\n",
    "completion = chat_with_openai_using_tools(conversation_with_tools)\n",
    "conversation_with_tools.add_system_message(completion)\n",
    "print(completion.choices[0].message)"
   ]
  },
  {
   "cell_type": "code",
   "execution_count": 34,
   "metadata": {},
   "outputs": [
    {
     "name": "stdout",
     "output_type": "stream",
     "text": [
      "add_two_numbers\n",
      "{\"number_a\":13,\"number_b\":27}\n",
      "call_GimrKeXBNoZpgsLHDPBNk2jy\n"
     ]
    }
   ],
   "source": [
    "tool_called = completion.choices[0].message.tool_calls[0]\n",
    "print(tool_called.function.name)\n",
    "print(tool_called.function.arguments)\n",
    "print(tool_called.id)"
   ]
  },
  {
   "cell_type": "code",
   "execution_count": 35,
   "metadata": {},
   "outputs": [
    {
     "data": {
      "text/plain": [
       "[{'role': 'system',\n",
       "  'content': \"You are an expert at adding and multiplying numbers together. Don't make assumptions about what values to plug into functions. Ask for clarification if a user request is ambiguous. Use your tools when they are helpful\"},\n",
       " {'role': 'user', 'content': 'Help me add 13 and 27'},\n",
       " {'role': 'assistant',\n",
       "  'content': None,\n",
       "  'tool_calls': [ChatCompletionMessageToolCall(id='call_GimrKeXBNoZpgsLHDPBNk2jy', function=Function(arguments='{\"number_a\":13,\"number_b\":27}', name='add_two_numbers'), type='function')]}]"
      ]
     },
     "execution_count": 35,
     "metadata": {},
     "output_type": "execute_result"
    }
   ],
   "source": [
    "conversation_with_tools.to_dict()"
   ]
  },
  {
   "cell_type": "code",
   "execution_count": 36,
   "metadata": {},
   "outputs": [
    {
     "name": "stdout",
     "output_type": "stream",
     "text": [
      "40\n"
     ]
    }
   ],
   "source": [
    "# Let's call our amazing addition function\n",
    "import json\n",
    "\n",
    "response = add_two_numbers(json.loads(tool_called.function.arguments))\n",
    "print(response)"
   ]
  },
  {
   "cell_type": "code",
   "execution_count": 37,
   "metadata": {},
   "outputs": [
    {
     "data": {
      "text/plain": [
       "[{'role': 'system',\n",
       "  'content': \"You are an expert at adding and multiplying numbers together. Don't make assumptions about what values to plug into functions. Ask for clarification if a user request is ambiguous. Use your tools when they are helpful\"},\n",
       " {'role': 'user', 'content': 'Help me add 13 and 27'},\n",
       " {'role': 'assistant',\n",
       "  'content': None,\n",
       "  'tool_calls': [ChatCompletionMessageToolCall(id='call_GimrKeXBNoZpgsLHDPBNk2jy', function=Function(arguments='{\"number_a\":13,\"number_b\":27}', name='add_two_numbers'), type='function')]},\n",
       " {'role': 'tool',\n",
       "  'content': '40',\n",
       "  'tool_call_id': 'call_GimrKeXBNoZpgsLHDPBNk2jy',\n",
       "  'name': 'add_two_numbers'}]"
      ]
     },
     "execution_count": 37,
     "metadata": {},
     "output_type": "execute_result"
    }
   ],
   "source": [
    "conversation_with_tools.add_tool_message(tool_called, response)\n",
    "conversation_with_tools.to_dict()"
   ]
  },
  {
   "cell_type": "code",
   "execution_count": 38,
   "metadata": {},
   "outputs": [],
   "source": [
    "# Let's call it now with our convesation\n",
    "completion = chat_with_openai_using_tools(conversation_with_tools)\n",
    "\n",
    "#conversation_with_tools.print_conversation()"
   ]
  },
  {
   "cell_type": "code",
   "execution_count": 39,
   "metadata": {},
   "outputs": [],
   "source": [
    "conversation_with_tools.add_system_message(completion)"
   ]
  },
  {
   "cell_type": "code",
   "execution_count": 40,
   "metadata": {},
   "outputs": [
    {
     "name": "stdout",
     "output_type": "stream",
     "text": [
      "system : You are an expert at adding and multiplying numbers together. Don't make assumptions about what values to plug into functions. Ask for clarification if a user request is ambiguous. Use your tools when they are helpful\n",
      "user : Help me add 13 and 27\n",
      "assistant : None\n",
      "tool : 40\n",
      "assistant : The sum of 13 and 27 is 40.\n"
     ]
    }
   ],
   "source": [
    "conversation_with_tools.print_conversation()"
   ]
  },
  {
   "cell_type": "markdown",
   "metadata": {},
   "source": [
    "# USE LANGCHAIN AGENTS"
   ]
  },
  {
   "cell_type": "code",
   "execution_count": null,
   "metadata": {},
   "outputs": [],
   "source": []
  }
 ],
 "metadata": {
  "kernelspec": {
   "display_name": "base",
   "language": "python",
   "name": "python3"
  },
  "language_info": {
   "codemirror_mode": {
    "name": "ipython",
    "version": 3
   },
   "file_extension": ".py",
   "mimetype": "text/x-python",
   "name": "python",
   "nbconvert_exporter": "python",
   "pygments_lexer": "ipython3",
   "version": "3.10.9"
  }
 },
 "nbformat": 4,
 "nbformat_minor": 2
}
